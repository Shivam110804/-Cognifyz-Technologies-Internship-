{
 "cells": [
  {
   "cell_type": "markdown",
   "id": "49cbff25-a739-41c0-8201-afad35a9e9db",
   "metadata": {},
   "source": [
    "# LEVEL 2 (Task 2): Cuisine Combination\n",
    "\n",
    "Identify the most common combinations of\n",
    "cuisines in the dataset.\n",
    "\n",
    "Determine if certain cuisine combinations\n",
    "tend to have higher ratings."
   ]
  },
  {
   "cell_type": "code",
   "execution_count": 1,
   "id": "2d5520e8-f75a-4abc-8621-42fe94054164",
   "metadata": {},
   "outputs": [],
   "source": [
    "import numpy as np\n",
    "import pandas as pd\n",
    "import matplotlib.pyplot as plt\n",
    "import seaborn as sns"
   ]
  },
  {
   "cell_type": "code",
   "execution_count": 2,
   "id": "0b8faab8-8694-46b2-965e-f52c93e004da",
   "metadata": {},
   "outputs": [],
   "source": [
    "df = pd.read_csv('Dataset .csv' , lineterminator = '\\n' ) "
   ]
  },
  {
   "cell_type": "code",
   "execution_count": 4,
   "id": "687c37d4-1730-4097-bd05-e53ba45fb4ed",
   "metadata": {},
   "outputs": [],
   "source": [
    "cuisines = df[\"Cuisines\"]\n",
    "aggregate_ratings = df[\"Aggregate rating\"]"
   ]
  },
  {
   "cell_type": "code",
   "execution_count": 5,
   "id": "1e7f2792-b545-4e7c-b403-3558a1ce4c93",
   "metadata": {},
   "outputs": [],
   "source": [
    "cuisine_combinations_counts = cuisines.value_counts()\n"
   ]
  },
  {
   "cell_type": "code",
   "execution_count": 6,
   "id": "6d437c2b-8249-49c3-be48-e6ed866c26ec",
   "metadata": {},
   "outputs": [
    {
     "name": "stdout",
     "output_type": "stream",
     "text": [
      "Most common cuisine combinations:\n",
      "Cuisines\n",
      "North Indian                      936\n",
      "North Indian, Chinese             511\n",
      "Chinese                           354\n",
      "Fast Food                         354\n",
      "North Indian, Mughlai             334\n",
      "Cafe                              299\n",
      "Bakery                            218\n",
      "North Indian, Mughlai, Chinese    197\n",
      "Bakery, Desserts                  170\n",
      "Street Food                       149\n",
      "Name: count, dtype: int64\n"
     ]
    }
   ],
   "source": [
    "most_common_cuisine_combinations = cuisine_combinations_counts.head(10)\n",
    "print(\"Most common cuisine combinations:\")\n",
    "print(most_common_cuisine_combinations)"
   ]
  },
  {
   "cell_type": "code",
   "execution_count": 7,
   "id": "1e03cbb6-32b9-48e2-85ec-db89be4f2150",
   "metadata": {},
   "outputs": [],
   "source": [
    "cuisine_combinations_avg_rating = df.groupby(\"Cuisines\")[\"Aggregate rating\"].mean()\n"
   ]
  },
  {
   "cell_type": "code",
   "execution_count": 8,
   "id": "2f58f97a-1742-4198-9d10-9aa6a6ef6edc",
   "metadata": {},
   "outputs": [
    {
     "name": "stdout",
     "output_type": "stream",
     "text": [
      "\n",
      "Average ratings for the top 10 cuisine combinations:\n",
      "Cuisines\n",
      "American, BBQ, Sandwich         4.9\n",
      "American, Burger, Grill         4.9\n",
      "American, Caribbean, Seafood    4.9\n",
      "American, Coffee and Tea        4.9\n",
      "American, Sandwich, Tea         4.9\n",
      "BBQ, Breakfast, Southern        4.9\n",
      "Burger, Bar Food, Steak         4.9\n",
      "Continental, Indian             4.9\n",
      "European, Asian, Indian         4.9\n",
      "European, Contemporary          4.9\n",
      "Name: Aggregate rating, dtype: float64\n"
     ]
    }
   ],
   "source": [
    "top_10_avg_ratings = cuisine_combinations_avg_rating.nlargest(10)\n",
    "print(\"\\nAverage ratings for the top 10 cuisine combinations:\")\n",
    "print(top_10_avg_ratings)"
   ]
  },
  {
   "cell_type": "code",
   "execution_count": null,
   "id": "d5327f82-0a9a-4491-bc33-79b608a5f7c2",
   "metadata": {},
   "outputs": [],
   "source": []
  },
  {
   "cell_type": "code",
   "execution_count": null,
   "id": "d2c53e84-961a-461c-a423-6e021e9290cc",
   "metadata": {},
   "outputs": [],
   "source": []
  }
 ],
 "metadata": {
  "kernelspec": {
   "display_name": "Python 3 (ipykernel)",
   "language": "python",
   "name": "python3"
  },
  "language_info": {
   "codemirror_mode": {
    "name": "ipython",
    "version": 3
   },
   "file_extension": ".py",
   "mimetype": "text/x-python",
   "name": "python",
   "nbconvert_exporter": "python",
   "pygments_lexer": "ipython3",
   "version": "3.13.2"
  }
 },
 "nbformat": 4,
 "nbformat_minor": 5
}
